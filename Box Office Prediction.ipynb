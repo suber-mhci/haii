{
 "cells": [
  {
   "cell_type": "code",
   "execution_count": 1,
   "id": "cf82441e",
   "metadata": {},
   "outputs": [],
   "source": [
    "import pandas as pd\n",
    "import matplotlib.pyplot as plt"
   ]
  },
  {
   "cell_type": "code",
   "execution_count": 2,
   "id": "5907619b",
   "metadata": {},
   "outputs": [],
   "source": [
    "#load the dataset \n",
    "data_url = \"https://raw.githubusercontent.com/suber-mhci/haii/master/tmdb_5000_movies.csv\"\n",
    "df = pd.read_csv(data_url)"
   ]
  },
  {
   "cell_type": "code",
   "execution_count": 3,
   "id": "8e30ee35",
   "metadata": {},
   "outputs": [],
   "source": [
    "#convert dict to list \n",
    "import re\n",
    "import json\n",
    "def dict_lists(dataFrame,src_column):\n",
    "    new_vals = []\n",
    "    for value in dataFrame[src_column]:\n",
    "        if value == value:\n",
    "            # getting list of substrings\n",
    "            jsons_list = re.findall('{.*?}', value)\n",
    "            # getting dict_list for this value\n",
    "            dicts_list = []\n",
    "            for json_val in jsons_list:\n",
    "                dicts_list.append(json.loads(json_val))\n",
    "            new_vals.append(dicts_list)\n",
    "        else:\n",
    "            new_vals.append(np.nan)\n",
    "    return new_vals"
   ]
  },
  {
   "cell_type": "code",
   "execution_count": 4,
   "id": "309e7319",
   "metadata": {},
   "outputs": [
    {
     "data": {
      "text/plain": [
       "Index(['budget', 'genres', 'homepage', 'id', 'keywords', 'original_language',\n",
       "       'original_title', 'overview', 'popularity', 'production_companies',\n",
       "       'production_countries', 'release_date', 'revenue', 'runtime',\n",
       "       'spoken_languages', 'status', 'tagline', 'title', 'vote_average',\n",
       "       'vote_count'],\n",
       "      dtype='object')"
      ]
     },
     "execution_count": 4,
     "metadata": {},
     "output_type": "execute_result"
    }
   ],
   "source": [
    "df.columns"
   ]
  },
  {
   "cell_type": "code",
   "execution_count": 5,
   "id": "84f32389",
   "metadata": {},
   "outputs": [],
   "source": [
    "df_genres = pd.DataFrame(dict_lists(df,'genres'))\n",
    "df_production_company = pd.DataFrame(dict_lists(df,'production_companies'))\n",
    "df_production_country = pd.DataFrame(dict_lists(df,'production_countries'))"
   ]
  },
  {
   "cell_type": "code",
   "execution_count": 6,
   "id": "99062798",
   "metadata": {},
   "outputs": [
    {
     "data": {
      "text/html": [
       "<div>\n",
       "<style scoped>\n",
       "    .dataframe tbody tr th:only-of-type {\n",
       "        vertical-align: middle;\n",
       "    }\n",
       "\n",
       "    .dataframe tbody tr th {\n",
       "        vertical-align: top;\n",
       "    }\n",
       "\n",
       "    .dataframe thead th {\n",
       "        text-align: right;\n",
       "    }\n",
       "</style>\n",
       "<table border=\"1\" class=\"dataframe\">\n",
       "  <thead>\n",
       "    <tr style=\"text-align: right;\">\n",
       "      <th></th>\n",
       "      <th>0</th>\n",
       "      <th>1</th>\n",
       "      <th>2</th>\n",
       "      <th>3</th>\n",
       "      <th>4</th>\n",
       "      <th>5</th>\n",
       "      <th>6</th>\n",
       "      <th>7</th>\n",
       "      <th>8</th>\n",
       "      <th>9</th>\n",
       "      <th>10</th>\n",
       "      <th>11</th>\n",
       "    </tr>\n",
       "  </thead>\n",
       "  <tbody>\n",
       "    <tr>\n",
       "      <th>0</th>\n",
       "      <td>{'iso_3166_1': 'US', 'name': 'United States of...</td>\n",
       "      <td>{'iso_3166_1': 'GB', 'name': 'United Kingdom'}</td>\n",
       "      <td>None</td>\n",
       "      <td>None</td>\n",
       "      <td>None</td>\n",
       "      <td>None</td>\n",
       "      <td>None</td>\n",
       "      <td>None</td>\n",
       "      <td>None</td>\n",
       "      <td>None</td>\n",
       "      <td>None</td>\n",
       "      <td>None</td>\n",
       "    </tr>\n",
       "  </tbody>\n",
       "</table>\n",
       "</div>"
      ],
      "text/plain": [
       "                                                  0   \\\n",
       "0  {'iso_3166_1': 'US', 'name': 'United States of...   \n",
       "\n",
       "                                               1     2     3     4     5   \\\n",
       "0  {'iso_3166_1': 'GB', 'name': 'United Kingdom'}  None  None  None  None   \n",
       "\n",
       "     6     7     8     9     10    11  \n",
       "0  None  None  None  None  None  None  "
      ]
     },
     "execution_count": 6,
     "metadata": {},
     "output_type": "execute_result"
    }
   ],
   "source": [
    "df_genres.head(1)\n",
    "df_production_company.head(1)\n",
    "df_production_country.head(1)"
   ]
  },
  {
   "cell_type": "code",
   "execution_count": 7,
   "id": "ccccf8c1",
   "metadata": {},
   "outputs": [
    {
     "name": "stdout",
     "output_type": "stream",
     "text": [
      "{'id': 28, 'name': 'Action'}\n"
     ]
    }
   ],
   "source": [
    "print(df_genres.iloc[0][0])"
   ]
  },
  {
   "cell_type": "code",
   "execution_count": 8,
   "id": "6431d950",
   "metadata": {},
   "outputs": [
    {
     "name": "stdout",
     "output_type": "stream",
     "text": [
      "7\n"
     ]
    }
   ],
   "source": [
    "print(len(df_genres.iloc[1]))"
   ]
  },
  {
   "cell_type": "code",
   "execution_count": 9,
   "id": "3b38895b",
   "metadata": {},
   "outputs": [],
   "source": [
    "def list_category(category):\n",
    "    for i in range(0, 4803):\n",
    "        for j in range(0, 7):\n",
    "            if category.iloc[i][j] != None:\n",
    "                category.iloc[i][j] = category.iloc[i][j].get('name')   "
   ]
  },
  {
   "cell_type": "code",
   "execution_count": 10,
   "id": "ea9a690d",
   "metadata": {},
   "outputs": [
    {
     "data": {
      "text/html": [
       "<div>\n",
       "<style scoped>\n",
       "    .dataframe tbody tr th:only-of-type {\n",
       "        vertical-align: middle;\n",
       "    }\n",
       "\n",
       "    .dataframe tbody tr th {\n",
       "        vertical-align: top;\n",
       "    }\n",
       "\n",
       "    .dataframe thead th {\n",
       "        text-align: right;\n",
       "    }\n",
       "</style>\n",
       "<table border=\"1\" class=\"dataframe\">\n",
       "  <thead>\n",
       "    <tr style=\"text-align: right;\">\n",
       "      <th></th>\n",
       "      <th>0</th>\n",
       "      <th>1</th>\n",
       "      <th>2</th>\n",
       "      <th>3</th>\n",
       "      <th>4</th>\n",
       "      <th>5</th>\n",
       "      <th>6</th>\n",
       "    </tr>\n",
       "  </thead>\n",
       "  <tbody>\n",
       "    <tr>\n",
       "      <th>0</th>\n",
       "      <td>Action</td>\n",
       "      <td>Adventure</td>\n",
       "      <td>Fantasy</td>\n",
       "      <td>Science Fiction</td>\n",
       "      <td>None</td>\n",
       "      <td>None</td>\n",
       "      <td>None</td>\n",
       "    </tr>\n",
       "  </tbody>\n",
       "</table>\n",
       "</div>"
      ],
      "text/plain": [
       "        0          1        2                3     4     5     6\n",
       "0  Action  Adventure  Fantasy  Science Fiction  None  None  None"
      ]
     },
     "execution_count": 10,
     "metadata": {},
     "output_type": "execute_result"
    }
   ],
   "source": [
    "list_category(df_genres)\n",
    "list_category(df_production_company)\n",
    "list_category(df_production_country)\n",
    "df_genres.head(1)"
   ]
  },
  {
   "cell_type": "code",
   "execution_count": 11,
   "id": "3968f5de",
   "metadata": {},
   "outputs": [
    {
     "data": {
      "text/html": [
       "<div>\n",
       "<style scoped>\n",
       "    .dataframe tbody tr th:only-of-type {\n",
       "        vertical-align: middle;\n",
       "    }\n",
       "\n",
       "    .dataframe tbody tr th {\n",
       "        vertical-align: top;\n",
       "    }\n",
       "\n",
       "    .dataframe thead th {\n",
       "        text-align: right;\n",
       "    }\n",
       "</style>\n",
       "<table border=\"1\" class=\"dataframe\">\n",
       "  <thead>\n",
       "    <tr style=\"text-align: right;\">\n",
       "      <th></th>\n",
       "      <th>0</th>\n",
       "      <th>1</th>\n",
       "      <th>2</th>\n",
       "      <th>3</th>\n",
       "      <th>4</th>\n",
       "      <th>5</th>\n",
       "      <th>6</th>\n",
       "      <th>7</th>\n",
       "      <th>8</th>\n",
       "      <th>9</th>\n",
       "      <th>...</th>\n",
       "      <th>16</th>\n",
       "      <th>17</th>\n",
       "      <th>18</th>\n",
       "      <th>19</th>\n",
       "      <th>20</th>\n",
       "      <th>21</th>\n",
       "      <th>22</th>\n",
       "      <th>23</th>\n",
       "      <th>24</th>\n",
       "      <th>25</th>\n",
       "    </tr>\n",
       "  </thead>\n",
       "  <tbody>\n",
       "    <tr>\n",
       "      <th>0</th>\n",
       "      <td>Ingenious Film Partners</td>\n",
       "      <td>Twentieth Century Fox Film Corporation</td>\n",
       "      <td>Dune Entertainment</td>\n",
       "      <td>Lightstorm Entertainment</td>\n",
       "      <td>None</td>\n",
       "      <td>None</td>\n",
       "      <td>None</td>\n",
       "      <td>None</td>\n",
       "      <td>None</td>\n",
       "      <td>None</td>\n",
       "      <td>...</td>\n",
       "      <td>None</td>\n",
       "      <td>None</td>\n",
       "      <td>None</td>\n",
       "      <td>None</td>\n",
       "      <td>None</td>\n",
       "      <td>None</td>\n",
       "      <td>None</td>\n",
       "      <td>None</td>\n",
       "      <td>None</td>\n",
       "      <td>None</td>\n",
       "    </tr>\n",
       "  </tbody>\n",
       "</table>\n",
       "<p>1 rows × 26 columns</p>\n",
       "</div>"
      ],
      "text/plain": [
       "                        0                                       1   \\\n",
       "0  Ingenious Film Partners  Twentieth Century Fox Film Corporation   \n",
       "\n",
       "                   2                         3     4     5     6     7     8   \\\n",
       "0  Dune Entertainment  Lightstorm Entertainment  None  None  None  None  None   \n",
       "\n",
       "     9   ...    16    17    18    19    20    21    22    23    24    25  \n",
       "0  None  ...  None  None  None  None  None  None  None  None  None  None  \n",
       "\n",
       "[1 rows x 26 columns]"
      ]
     },
     "execution_count": 11,
     "metadata": {},
     "output_type": "execute_result"
    }
   ],
   "source": [
    "df_production_company.head(1)"
   ]
  },
  {
   "cell_type": "code",
   "execution_count": 12,
   "id": "c2983aef",
   "metadata": {},
   "outputs": [
    {
     "data": {
      "text/html": [
       "<div>\n",
       "<style scoped>\n",
       "    .dataframe tbody tr th:only-of-type {\n",
       "        vertical-align: middle;\n",
       "    }\n",
       "\n",
       "    .dataframe tbody tr th {\n",
       "        vertical-align: top;\n",
       "    }\n",
       "\n",
       "    .dataframe thead th {\n",
       "        text-align: right;\n",
       "    }\n",
       "</style>\n",
       "<table border=\"1\" class=\"dataframe\">\n",
       "  <thead>\n",
       "    <tr style=\"text-align: right;\">\n",
       "      <th></th>\n",
       "      <th>0</th>\n",
       "      <th>1</th>\n",
       "      <th>2</th>\n",
       "      <th>3</th>\n",
       "      <th>4</th>\n",
       "      <th>5</th>\n",
       "      <th>6</th>\n",
       "      <th>7</th>\n",
       "      <th>8</th>\n",
       "      <th>9</th>\n",
       "      <th>10</th>\n",
       "      <th>11</th>\n",
       "    </tr>\n",
       "  </thead>\n",
       "  <tbody>\n",
       "    <tr>\n",
       "      <th>0</th>\n",
       "      <td>United States of America</td>\n",
       "      <td>United Kingdom</td>\n",
       "      <td>None</td>\n",
       "      <td>None</td>\n",
       "      <td>None</td>\n",
       "      <td>None</td>\n",
       "      <td>None</td>\n",
       "      <td>None</td>\n",
       "      <td>None</td>\n",
       "      <td>None</td>\n",
       "      <td>None</td>\n",
       "      <td>None</td>\n",
       "    </tr>\n",
       "  </tbody>\n",
       "</table>\n",
       "</div>"
      ],
      "text/plain": [
       "                         0               1     2     3     4     5     6   \\\n",
       "0  United States of America  United Kingdom  None  None  None  None  None   \n",
       "\n",
       "     7     8     9     10    11  \n",
       "0  None  None  None  None  None  "
      ]
     },
     "execution_count": 12,
     "metadata": {},
     "output_type": "execute_result"
    }
   ],
   "source": [
    "df_production_country.head(1)"
   ]
  },
  {
   "cell_type": "code",
   "execution_count": 13,
   "id": "ce84cd5c",
   "metadata": {},
   "outputs": [
    {
     "data": {
      "text/plain": [
       "Drama              1207\n",
       "Comedy             1042\n",
       "Action              754\n",
       "Adventure           339\n",
       "Horror              300\n",
       "Crime               195\n",
       "Thriller            194\n",
       "Animation           123\n",
       "Fantasy             117\n",
       "Romance             106\n",
       "Science Fiction      96\n",
       "Documentary          89\n",
       "Family               56\n",
       "Mystery              41\n",
       "Music                34\n",
       "Western              27\n",
       "History              25\n",
       "War                  24\n",
       "TV Movie              4\n",
       "Foreign               2\n",
       "Name: 0, dtype: int64"
      ]
     },
     "execution_count": 13,
     "metadata": {},
     "output_type": "execute_result"
    }
   ],
   "source": [
    "df_genres[0].value_counts()"
   ]
  },
  {
   "cell_type": "code",
   "execution_count": 14,
   "id": "a9817e82",
   "metadata": {},
   "outputs": [],
   "source": [
    "#add genre column to original dataframe\n",
    "df['top_genre'] = df_genres[0]\n",
    "df[\"top_production_company\"] = df_production_company[0]\n",
    "df[\"top_production_country\"] = df_production_country[0]"
   ]
  },
  {
   "cell_type": "code",
   "execution_count": 15,
   "id": "4ed308ea",
   "metadata": {},
   "outputs": [
    {
     "data": {
      "text/html": [
       "<div>\n",
       "<style scoped>\n",
       "    .dataframe tbody tr th:only-of-type {\n",
       "        vertical-align: middle;\n",
       "    }\n",
       "\n",
       "    .dataframe tbody tr th {\n",
       "        vertical-align: top;\n",
       "    }\n",
       "\n",
       "    .dataframe thead th {\n",
       "        text-align: right;\n",
       "    }\n",
       "</style>\n",
       "<table border=\"1\" class=\"dataframe\">\n",
       "  <thead>\n",
       "    <tr style=\"text-align: right;\">\n",
       "      <th></th>\n",
       "      <th>budget</th>\n",
       "      <th>genres</th>\n",
       "      <th>homepage</th>\n",
       "      <th>id</th>\n",
       "      <th>keywords</th>\n",
       "      <th>original_language</th>\n",
       "      <th>original_title</th>\n",
       "      <th>overview</th>\n",
       "      <th>popularity</th>\n",
       "      <th>production_companies</th>\n",
       "      <th>...</th>\n",
       "      <th>runtime</th>\n",
       "      <th>spoken_languages</th>\n",
       "      <th>status</th>\n",
       "      <th>tagline</th>\n",
       "      <th>title</th>\n",
       "      <th>vote_average</th>\n",
       "      <th>vote_count</th>\n",
       "      <th>top_genre</th>\n",
       "      <th>top_production_company</th>\n",
       "      <th>top_production_country</th>\n",
       "    </tr>\n",
       "  </thead>\n",
       "  <tbody>\n",
       "    <tr>\n",
       "      <th>0</th>\n",
       "      <td>237000000</td>\n",
       "      <td>[{\"id\": 28, \"name\": \"Action\"}, {\"id\": 12, \"nam...</td>\n",
       "      <td>http://www.avatarmovie.com/</td>\n",
       "      <td>19995</td>\n",
       "      <td>[{\"id\": 1463, \"name\": \"culture clash\"}, {\"id\":...</td>\n",
       "      <td>en</td>\n",
       "      <td>Avatar</td>\n",
       "      <td>In the 22nd century, a paraplegic Marine is di...</td>\n",
       "      <td>150.437577</td>\n",
       "      <td>[{\"name\": \"Ingenious Film Partners\", \"id\": 289...</td>\n",
       "      <td>...</td>\n",
       "      <td>162.0</td>\n",
       "      <td>[{\"iso_639_1\": \"en\", \"name\": \"English\"}, {\"iso...</td>\n",
       "      <td>Released</td>\n",
       "      <td>Enter the World of Pandora.</td>\n",
       "      <td>Avatar</td>\n",
       "      <td>7.2</td>\n",
       "      <td>11800</td>\n",
       "      <td>Action</td>\n",
       "      <td>Ingenious Film Partners</td>\n",
       "      <td>United States of America</td>\n",
       "    </tr>\n",
       "  </tbody>\n",
       "</table>\n",
       "<p>1 rows × 23 columns</p>\n",
       "</div>"
      ],
      "text/plain": [
       "      budget                                             genres  \\\n",
       "0  237000000  [{\"id\": 28, \"name\": \"Action\"}, {\"id\": 12, \"nam...   \n",
       "\n",
       "                      homepage     id  \\\n",
       "0  http://www.avatarmovie.com/  19995   \n",
       "\n",
       "                                            keywords original_language  \\\n",
       "0  [{\"id\": 1463, \"name\": \"culture clash\"}, {\"id\":...                en   \n",
       "\n",
       "  original_title                                           overview  \\\n",
       "0         Avatar  In the 22nd century, a paraplegic Marine is di...   \n",
       "\n",
       "   popularity                               production_companies  ... runtime  \\\n",
       "0  150.437577  [{\"name\": \"Ingenious Film Partners\", \"id\": 289...  ...   162.0   \n",
       "\n",
       "                                    spoken_languages    status  \\\n",
       "0  [{\"iso_639_1\": \"en\", \"name\": \"English\"}, {\"iso...  Released   \n",
       "\n",
       "                       tagline   title vote_average vote_count top_genre  \\\n",
       "0  Enter the World of Pandora.  Avatar          7.2      11800    Action   \n",
       "\n",
       "    top_production_company    top_production_country  \n",
       "0  Ingenious Film Partners  United States of America  \n",
       "\n",
       "[1 rows x 23 columns]"
      ]
     },
     "execution_count": 15,
     "metadata": {},
     "output_type": "execute_result"
    }
   ],
   "source": [
    "df.head(1)"
   ]
  },
  {
   "cell_type": "code",
   "execution_count": 16,
   "id": "2211f618",
   "metadata": {},
   "outputs": [],
   "source": [
    "#only want to keep a few columns \n",
    "df_sample = df[[\"budget\", \"top_genre\",\"revenue\", \"top_production_company\", \"top_production_country\", \"original_language\", \"popularity\", \"runtime\"]]"
   ]
  },
  {
   "cell_type": "code",
   "execution_count": 17,
   "id": "467d3cd3",
   "metadata": {},
   "outputs": [
    {
     "name": "stderr",
     "output_type": "stream",
     "text": [
      "/var/folders/z7/10wjhb1949v24p4wx4kyt7qm0000gn/T/ipykernel_90931/2250938673.py:1: SettingWithCopyWarning: \n",
      "A value is trying to be set on a copy of a slice from a DataFrame.\n",
      "Try using .loc[row_indexer,col_indexer] = value instead\n",
      "\n",
      "See the caveats in the documentation: https://pandas.pydata.org/pandas-docs/stable/user_guide/indexing.html#returning-a-view-versus-a-copy\n",
      "  df_sample['release_day'] = df['release_date'].str[8:]\n",
      "/var/folders/z7/10wjhb1949v24p4wx4kyt7qm0000gn/T/ipykernel_90931/2250938673.py:2: SettingWithCopyWarning: \n",
      "A value is trying to be set on a copy of a slice from a DataFrame.\n",
      "Try using .loc[row_indexer,col_indexer] = value instead\n",
      "\n",
      "See the caveats in the documentation: https://pandas.pydata.org/pandas-docs/stable/user_guide/indexing.html#returning-a-view-versus-a-copy\n",
      "  df_sample['release_month'] = df['release_date'].str[5:7]\n",
      "/var/folders/z7/10wjhb1949v24p4wx4kyt7qm0000gn/T/ipykernel_90931/2250938673.py:3: SettingWithCopyWarning: \n",
      "A value is trying to be set on a copy of a slice from a DataFrame.\n",
      "Try using .loc[row_indexer,col_indexer] = value instead\n",
      "\n",
      "See the caveats in the documentation: https://pandas.pydata.org/pandas-docs/stable/user_guide/indexing.html#returning-a-view-versus-a-copy\n",
      "  df_sample['release_year'] = df['release_date'].str[0:4]\n"
     ]
    },
    {
     "data": {
      "text/html": [
       "<div>\n",
       "<style scoped>\n",
       "    .dataframe tbody tr th:only-of-type {\n",
       "        vertical-align: middle;\n",
       "    }\n",
       "\n",
       "    .dataframe tbody tr th {\n",
       "        vertical-align: top;\n",
       "    }\n",
       "\n",
       "    .dataframe thead th {\n",
       "        text-align: right;\n",
       "    }\n",
       "</style>\n",
       "<table border=\"1\" class=\"dataframe\">\n",
       "  <thead>\n",
       "    <tr style=\"text-align: right;\">\n",
       "      <th></th>\n",
       "      <th>budget</th>\n",
       "      <th>top_genre</th>\n",
       "      <th>revenue</th>\n",
       "      <th>top_production_company</th>\n",
       "      <th>top_production_country</th>\n",
       "      <th>original_language</th>\n",
       "      <th>popularity</th>\n",
       "      <th>runtime</th>\n",
       "      <th>release_day</th>\n",
       "      <th>release_month</th>\n",
       "      <th>release_year</th>\n",
       "    </tr>\n",
       "  </thead>\n",
       "  <tbody>\n",
       "    <tr>\n",
       "      <th>0</th>\n",
       "      <td>237000000</td>\n",
       "      <td>Action</td>\n",
       "      <td>2787965087</td>\n",
       "      <td>Ingenious Film Partners</td>\n",
       "      <td>United States of America</td>\n",
       "      <td>en</td>\n",
       "      <td>150.437577</td>\n",
       "      <td>162.0</td>\n",
       "      <td>10</td>\n",
       "      <td>12</td>\n",
       "      <td>2009</td>\n",
       "    </tr>\n",
       "  </tbody>\n",
       "</table>\n",
       "</div>"
      ],
      "text/plain": [
       "      budget top_genre     revenue   top_production_company  \\\n",
       "0  237000000    Action  2787965087  Ingenious Film Partners   \n",
       "\n",
       "     top_production_country original_language  popularity  runtime  \\\n",
       "0  United States of America                en  150.437577    162.0   \n",
       "\n",
       "  release_day release_month release_year  \n",
       "0          10            12         2009  "
      ]
     },
     "execution_count": 17,
     "metadata": {},
     "output_type": "execute_result"
    }
   ],
   "source": [
    "df_sample['release_day'] = df['release_date'].str[8:]\n",
    "df_sample['release_month'] = df['release_date'].str[5:7]\n",
    "df_sample['release_year'] = df['release_date'].str[0:4]\n",
    "df_sample.head(1)"
   ]
  },
  {
   "cell_type": "code",
   "execution_count": 18,
   "id": "1532789d",
   "metadata": {},
   "outputs": [
    {
     "data": {
      "text/plain": [
       "09    588\n",
       "10    474\n",
       "12    456\n",
       "08    413\n",
       "06    389\n",
       "01    382\n",
       "03    372\n",
       "05    363\n",
       "07    363\n",
       "04    350\n",
       "11    326\n",
       "02    326\n",
       "Name: release_month, dtype: int64"
      ]
     },
     "execution_count": 18,
     "metadata": {},
     "output_type": "execute_result"
    }
   ],
   "source": [
    "df_sample['release_month'].value_counts()"
   ]
  },
  {
   "cell_type": "code",
   "execution_count": 19,
   "id": "3c97ff2d",
   "metadata": {},
   "outputs": [
    {
     "data": {
      "text/plain": [
       "01    291\n",
       "25    199\n",
       "22    185\n",
       "11    185\n",
       "16    179\n",
       "13    176\n",
       "09    175\n",
       "12    172\n",
       "21    172\n",
       "10    171\n",
       "17    170\n",
       "15    166\n",
       "18    164\n",
       "20    162\n",
       "07    161\n",
       "06    150\n",
       "19    148\n",
       "14    148\n",
       "27    144\n",
       "05    142\n",
       "24    140\n",
       "08    139\n",
       "03    135\n",
       "23    135\n",
       "26    134\n",
       "02    127\n",
       "30    127\n",
       "04    120\n",
       "28    106\n",
       "29    100\n",
       "31     79\n",
       "Name: release_day, dtype: int64"
      ]
     },
     "execution_count": 19,
     "metadata": {},
     "output_type": "execute_result"
    }
   ],
   "source": [
    "df_sample['release_day'].value_counts()"
   ]
  },
  {
   "cell_type": "code",
   "execution_count": 20,
   "id": "ac69638d",
   "metadata": {},
   "outputs": [
    {
     "name": "stdout",
     "output_type": "stream",
     "text": [
      "<class 'pandas.core.frame.DataFrame'>\n",
      "RangeIndex: 4803 entries, 0 to 4802\n",
      "Data columns (total 11 columns):\n",
      " #   Column                  Non-Null Count  Dtype  \n",
      "---  ------                  --------------  -----  \n",
      " 0   budget                  4803 non-null   int64  \n",
      " 1   top_genre               4775 non-null   object \n",
      " 2   revenue                 4803 non-null   int64  \n",
      " 3   top_production_company  4452 non-null   object \n",
      " 4   top_production_country  4629 non-null   object \n",
      " 5   original_language       4803 non-null   object \n",
      " 6   popularity              4803 non-null   float64\n",
      " 7   runtime                 4801 non-null   float64\n",
      " 8   release_day             4802 non-null   object \n",
      " 9   release_month           4802 non-null   object \n",
      " 10  release_year            4802 non-null   object \n",
      "dtypes: float64(2), int64(2), object(7)\n",
      "memory usage: 412.9+ KB\n"
     ]
    }
   ],
   "source": [
    "df_sample.info()"
   ]
  },
  {
   "cell_type": "code",
   "execution_count": 21,
   "id": "14e21664",
   "metadata": {},
   "outputs": [
    {
     "data": {
      "text/plain": [
       "budget                    0\n",
       "top_genre                 0\n",
       "revenue                   0\n",
       "top_production_company    0\n",
       "top_production_country    0\n",
       "original_language         0\n",
       "popularity                0\n",
       "runtime                   0\n",
       "release_day               0\n",
       "release_month             0\n",
       "release_year              0\n",
       "dtype: int64"
      ]
     },
     "execution_count": 21,
     "metadata": {},
     "output_type": "execute_result"
    }
   ],
   "source": [
    "df_sample = df_sample.dropna()\n",
    "df_sample.isnull().sum()"
   ]
  },
  {
   "cell_type": "code",
   "execution_count": 22,
   "id": "f4253c10",
   "metadata": {},
   "outputs": [
    {
     "name": "stdout",
     "output_type": "stream",
     "text": [
      "<class 'pandas.core.frame.DataFrame'>\n",
      "Int64Index: 4429 entries, 0 to 4802\n",
      "Data columns (total 11 columns):\n",
      " #   Column                  Non-Null Count  Dtype  \n",
      "---  ------                  --------------  -----  \n",
      " 0   budget                  4429 non-null   int64  \n",
      " 1   top_genre               4429 non-null   object \n",
      " 2   revenue                 4429 non-null   int64  \n",
      " 3   top_production_company  4429 non-null   object \n",
      " 4   top_production_country  4429 non-null   object \n",
      " 5   original_language       4429 non-null   object \n",
      " 6   popularity              4429 non-null   float64\n",
      " 7   runtime                 4429 non-null   float64\n",
      " 8   release_day             4429 non-null   object \n",
      " 9   release_month           4429 non-null   object \n",
      " 10  release_year            4429 non-null   object \n",
      "dtypes: float64(2), int64(2), object(7)\n",
      "memory usage: 415.2+ KB\n"
     ]
    }
   ],
   "source": [
    "df_sample.info()"
   ]
  },
  {
   "cell_type": "code",
   "execution_count": 23,
   "id": "7af9b178",
   "metadata": {},
   "outputs": [],
   "source": [
    "df_sample = df_sample[df_sample[\"top_genre\"] != \"TV Movie\"]\n",
    "df_sample = df_sample[df_sample[\"top_genre\"] != \"Foreign\"]\n",
    "df_sample = df_sample[df_sample[\"budget\"] != 0]\n",
    "df_sample = df_sample[df_sample[\"budget\"] >= 5000]"
   ]
  },
  {
   "cell_type": "code",
   "execution_count": 24,
   "id": "237d3826",
   "metadata": {},
   "outputs": [
    {
     "data": {
      "text/html": [
       "<div>\n",
       "<style scoped>\n",
       "    .dataframe tbody tr th:only-of-type {\n",
       "        vertical-align: middle;\n",
       "    }\n",
       "\n",
       "    .dataframe tbody tr th {\n",
       "        vertical-align: top;\n",
       "    }\n",
       "\n",
       "    .dataframe thead th {\n",
       "        text-align: right;\n",
       "    }\n",
       "</style>\n",
       "<table border=\"1\" class=\"dataframe\">\n",
       "  <thead>\n",
       "    <tr style=\"text-align: right;\">\n",
       "      <th></th>\n",
       "      <th>budget</th>\n",
       "      <th>genres</th>\n",
       "      <th>homepage</th>\n",
       "      <th>id</th>\n",
       "      <th>keywords</th>\n",
       "      <th>original_language</th>\n",
       "      <th>original_title</th>\n",
       "      <th>overview</th>\n",
       "      <th>popularity</th>\n",
       "      <th>production_companies</th>\n",
       "      <th>...</th>\n",
       "      <th>runtime</th>\n",
       "      <th>spoken_languages</th>\n",
       "      <th>status</th>\n",
       "      <th>tagline</th>\n",
       "      <th>title</th>\n",
       "      <th>vote_average</th>\n",
       "      <th>vote_count</th>\n",
       "      <th>top_genre</th>\n",
       "      <th>top_production_company</th>\n",
       "      <th>top_production_country</th>\n",
       "    </tr>\n",
       "  </thead>\n",
       "  <tbody>\n",
       "    <tr>\n",
       "      <th>0</th>\n",
       "      <td>237000000</td>\n",
       "      <td>[{\"id\": 28, \"name\": \"Action\"}, {\"id\": 12, \"nam...</td>\n",
       "      <td>http://www.avatarmovie.com/</td>\n",
       "      <td>19995</td>\n",
       "      <td>[{\"id\": 1463, \"name\": \"culture clash\"}, {\"id\":...</td>\n",
       "      <td>en</td>\n",
       "      <td>Avatar</td>\n",
       "      <td>In the 22nd century, a paraplegic Marine is di...</td>\n",
       "      <td>150.437577</td>\n",
       "      <td>[{\"name\": \"Ingenious Film Partners\", \"id\": 289...</td>\n",
       "      <td>...</td>\n",
       "      <td>162.0</td>\n",
       "      <td>[{\"iso_639_1\": \"en\", \"name\": \"English\"}, {\"iso...</td>\n",
       "      <td>Released</td>\n",
       "      <td>Enter the World of Pandora.</td>\n",
       "      <td>Avatar</td>\n",
       "      <td>7.2</td>\n",
       "      <td>11800</td>\n",
       "      <td>Action</td>\n",
       "      <td>Ingenious Film Partners</td>\n",
       "      <td>United States of America</td>\n",
       "    </tr>\n",
       "    <tr>\n",
       "      <th>1</th>\n",
       "      <td>300000000</td>\n",
       "      <td>[{\"id\": 12, \"name\": \"Adventure\"}, {\"id\": 14, \"...</td>\n",
       "      <td>http://disney.go.com/disneypictures/pirates/</td>\n",
       "      <td>285</td>\n",
       "      <td>[{\"id\": 270, \"name\": \"ocean\"}, {\"id\": 726, \"na...</td>\n",
       "      <td>en</td>\n",
       "      <td>Pirates of the Caribbean: At World's End</td>\n",
       "      <td>Captain Barbossa, long believed to be dead, ha...</td>\n",
       "      <td>139.082615</td>\n",
       "      <td>[{\"name\": \"Walt Disney Pictures\", \"id\": 2}, {\"...</td>\n",
       "      <td>...</td>\n",
       "      <td>169.0</td>\n",
       "      <td>[{\"iso_639_1\": \"en\", \"name\": \"English\"}]</td>\n",
       "      <td>Released</td>\n",
       "      <td>At the end of the world, the adventure begins.</td>\n",
       "      <td>Pirates of the Caribbean: At World's End</td>\n",
       "      <td>6.9</td>\n",
       "      <td>4500</td>\n",
       "      <td>Adventure</td>\n",
       "      <td>Walt Disney Pictures</td>\n",
       "      <td>United States of America</td>\n",
       "    </tr>\n",
       "    <tr>\n",
       "      <th>2</th>\n",
       "      <td>245000000</td>\n",
       "      <td>[{\"id\": 28, \"name\": \"Action\"}, {\"id\": 12, \"nam...</td>\n",
       "      <td>http://www.sonypictures.com/movies/spectre/</td>\n",
       "      <td>206647</td>\n",
       "      <td>[{\"id\": 470, \"name\": \"spy\"}, {\"id\": 818, \"name...</td>\n",
       "      <td>en</td>\n",
       "      <td>Spectre</td>\n",
       "      <td>A cryptic message from Bond’s past sends him o...</td>\n",
       "      <td>107.376788</td>\n",
       "      <td>[{\"name\": \"Columbia Pictures\", \"id\": 5}, {\"nam...</td>\n",
       "      <td>...</td>\n",
       "      <td>148.0</td>\n",
       "      <td>[{\"iso_639_1\": \"fr\", \"name\": \"Fran\\u00e7ais\"},...</td>\n",
       "      <td>Released</td>\n",
       "      <td>A Plan No One Escapes</td>\n",
       "      <td>Spectre</td>\n",
       "      <td>6.3</td>\n",
       "      <td>4466</td>\n",
       "      <td>Action</td>\n",
       "      <td>Columbia Pictures</td>\n",
       "      <td>United Kingdom</td>\n",
       "    </tr>\n",
       "    <tr>\n",
       "      <th>3</th>\n",
       "      <td>250000000</td>\n",
       "      <td>[{\"id\": 28, \"name\": \"Action\"}, {\"id\": 80, \"nam...</td>\n",
       "      <td>http://www.thedarkknightrises.com/</td>\n",
       "      <td>49026</td>\n",
       "      <td>[{\"id\": 849, \"name\": \"dc comics\"}, {\"id\": 853,...</td>\n",
       "      <td>en</td>\n",
       "      <td>The Dark Knight Rises</td>\n",
       "      <td>Following the death of District Attorney Harve...</td>\n",
       "      <td>112.312950</td>\n",
       "      <td>[{\"name\": \"Legendary Pictures\", \"id\": 923}, {\"...</td>\n",
       "      <td>...</td>\n",
       "      <td>165.0</td>\n",
       "      <td>[{\"iso_639_1\": \"en\", \"name\": \"English\"}]</td>\n",
       "      <td>Released</td>\n",
       "      <td>The Legend Ends</td>\n",
       "      <td>The Dark Knight Rises</td>\n",
       "      <td>7.6</td>\n",
       "      <td>9106</td>\n",
       "      <td>Action</td>\n",
       "      <td>Legendary Pictures</td>\n",
       "      <td>United States of America</td>\n",
       "    </tr>\n",
       "    <tr>\n",
       "      <th>4</th>\n",
       "      <td>260000000</td>\n",
       "      <td>[{\"id\": 28, \"name\": \"Action\"}, {\"id\": 12, \"nam...</td>\n",
       "      <td>http://movies.disney.com/john-carter</td>\n",
       "      <td>49529</td>\n",
       "      <td>[{\"id\": 818, \"name\": \"based on novel\"}, {\"id\":...</td>\n",
       "      <td>en</td>\n",
       "      <td>John Carter</td>\n",
       "      <td>John Carter is a war-weary, former military ca...</td>\n",
       "      <td>43.926995</td>\n",
       "      <td>[{\"name\": \"Walt Disney Pictures\", \"id\": 2}]</td>\n",
       "      <td>...</td>\n",
       "      <td>132.0</td>\n",
       "      <td>[{\"iso_639_1\": \"en\", \"name\": \"English\"}]</td>\n",
       "      <td>Released</td>\n",
       "      <td>Lost in our world, found in another.</td>\n",
       "      <td>John Carter</td>\n",
       "      <td>6.1</td>\n",
       "      <td>2124</td>\n",
       "      <td>Action</td>\n",
       "      <td>Walt Disney Pictures</td>\n",
       "      <td>United States of America</td>\n",
       "    </tr>\n",
       "  </tbody>\n",
       "</table>\n",
       "<p>5 rows × 23 columns</p>\n",
       "</div>"
      ],
      "text/plain": [
       "      budget                                             genres  \\\n",
       "0  237000000  [{\"id\": 28, \"name\": \"Action\"}, {\"id\": 12, \"nam...   \n",
       "1  300000000  [{\"id\": 12, \"name\": \"Adventure\"}, {\"id\": 14, \"...   \n",
       "2  245000000  [{\"id\": 28, \"name\": \"Action\"}, {\"id\": 12, \"nam...   \n",
       "3  250000000  [{\"id\": 28, \"name\": \"Action\"}, {\"id\": 80, \"nam...   \n",
       "4  260000000  [{\"id\": 28, \"name\": \"Action\"}, {\"id\": 12, \"nam...   \n",
       "\n",
       "                                       homepage      id  \\\n",
       "0                   http://www.avatarmovie.com/   19995   \n",
       "1  http://disney.go.com/disneypictures/pirates/     285   \n",
       "2   http://www.sonypictures.com/movies/spectre/  206647   \n",
       "3            http://www.thedarkknightrises.com/   49026   \n",
       "4          http://movies.disney.com/john-carter   49529   \n",
       "\n",
       "                                            keywords original_language  \\\n",
       "0  [{\"id\": 1463, \"name\": \"culture clash\"}, {\"id\":...                en   \n",
       "1  [{\"id\": 270, \"name\": \"ocean\"}, {\"id\": 726, \"na...                en   \n",
       "2  [{\"id\": 470, \"name\": \"spy\"}, {\"id\": 818, \"name...                en   \n",
       "3  [{\"id\": 849, \"name\": \"dc comics\"}, {\"id\": 853,...                en   \n",
       "4  [{\"id\": 818, \"name\": \"based on novel\"}, {\"id\":...                en   \n",
       "\n",
       "                             original_title  \\\n",
       "0                                    Avatar   \n",
       "1  Pirates of the Caribbean: At World's End   \n",
       "2                                   Spectre   \n",
       "3                     The Dark Knight Rises   \n",
       "4                               John Carter   \n",
       "\n",
       "                                            overview  popularity  \\\n",
       "0  In the 22nd century, a paraplegic Marine is di...  150.437577   \n",
       "1  Captain Barbossa, long believed to be dead, ha...  139.082615   \n",
       "2  A cryptic message from Bond’s past sends him o...  107.376788   \n",
       "3  Following the death of District Attorney Harve...  112.312950   \n",
       "4  John Carter is a war-weary, former military ca...   43.926995   \n",
       "\n",
       "                                production_companies  ... runtime  \\\n",
       "0  [{\"name\": \"Ingenious Film Partners\", \"id\": 289...  ...   162.0   \n",
       "1  [{\"name\": \"Walt Disney Pictures\", \"id\": 2}, {\"...  ...   169.0   \n",
       "2  [{\"name\": \"Columbia Pictures\", \"id\": 5}, {\"nam...  ...   148.0   \n",
       "3  [{\"name\": \"Legendary Pictures\", \"id\": 923}, {\"...  ...   165.0   \n",
       "4        [{\"name\": \"Walt Disney Pictures\", \"id\": 2}]  ...   132.0   \n",
       "\n",
       "                                    spoken_languages    status  \\\n",
       "0  [{\"iso_639_1\": \"en\", \"name\": \"English\"}, {\"iso...  Released   \n",
       "1           [{\"iso_639_1\": \"en\", \"name\": \"English\"}]  Released   \n",
       "2  [{\"iso_639_1\": \"fr\", \"name\": \"Fran\\u00e7ais\"},...  Released   \n",
       "3           [{\"iso_639_1\": \"en\", \"name\": \"English\"}]  Released   \n",
       "4           [{\"iso_639_1\": \"en\", \"name\": \"English\"}]  Released   \n",
       "\n",
       "                                          tagline  \\\n",
       "0                     Enter the World of Pandora.   \n",
       "1  At the end of the world, the adventure begins.   \n",
       "2                           A Plan No One Escapes   \n",
       "3                                 The Legend Ends   \n",
       "4            Lost in our world, found in another.   \n",
       "\n",
       "                                      title vote_average vote_count  \\\n",
       "0                                    Avatar          7.2      11800   \n",
       "1  Pirates of the Caribbean: At World's End          6.9       4500   \n",
       "2                                   Spectre          6.3       4466   \n",
       "3                     The Dark Knight Rises          7.6       9106   \n",
       "4                               John Carter          6.1       2124   \n",
       "\n",
       "   top_genre   top_production_company    top_production_country  \n",
       "0     Action  Ingenious Film Partners  United States of America  \n",
       "1  Adventure     Walt Disney Pictures  United States of America  \n",
       "2     Action        Columbia Pictures            United Kingdom  \n",
       "3     Action       Legendary Pictures  United States of America  \n",
       "4     Action     Walt Disney Pictures  United States of America  \n",
       "\n",
       "[5 rows x 23 columns]"
      ]
     },
     "execution_count": 24,
     "metadata": {},
     "output_type": "execute_result"
    }
   ],
   "source": [
    "df.head()"
   ]
  },
  {
   "cell_type": "code",
   "execution_count": 25,
   "id": "1202c56c",
   "metadata": {},
   "outputs": [],
   "source": [
    "def clean_month(x):\n",
    "    if \"12\" in x:\n",
    "        return \"December\"\n",
    "    if \"11\" in x:\n",
    "        return \"November\"\n",
    "    if \"10\" in x:\n",
    "        return \"October\"\n",
    "    if \"1\" in x:\n",
    "        return \"January\"\n",
    "    if \"2\" in x:\n",
    "        return \"Feburary\"\n",
    "    if \"3\" in x:\n",
    "        return \"March\"\n",
    "    if \"4\" in x:\n",
    "        return \"April\"\n",
    "    if \"5\" in x:\n",
    "        return \"May\"\n",
    "    if \"6\" in x:\n",
    "        return \"June\"\n",
    "    if \"7\" in x:\n",
    "        return \"July\"\n",
    "    if \"8\" in x:\n",
    "        return \"August\"\n",
    "    if \"9\" in x:\n",
    "        return \"September\""
   ]
  },
  {
   "cell_type": "code",
   "execution_count": 26,
   "id": "f25fa9bd",
   "metadata": {},
   "outputs": [],
   "source": [
    "df_sample['release_month'] = df_sample['release_month'].apply(clean_month)"
   ]
  },
  {
   "cell_type": "code",
   "execution_count": 27,
   "id": "8f449ba9",
   "metadata": {},
   "outputs": [
    {
     "data": {
      "text/plain": [
       "September    431\n",
       "December     380\n",
       "October      341\n",
       "August       317\n",
       "June         307\n",
       "July         294\n",
       "March        287\n",
       "May          282\n",
       "November     276\n",
       "April        253\n",
       "Feburary     249\n",
       "January      228\n",
       "Name: release_month, dtype: int64"
      ]
     },
     "execution_count": 27,
     "metadata": {},
     "output_type": "execute_result"
    }
   ],
   "source": [
    "df_sample['release_month'].value_counts()"
   ]
  },
  {
   "cell_type": "code",
   "execution_count": 28,
   "id": "ca326e9e",
   "metadata": {},
   "outputs": [
    {
     "data": {
      "text/html": [
       "<div>\n",
       "<style scoped>\n",
       "    .dataframe tbody tr th:only-of-type {\n",
       "        vertical-align: middle;\n",
       "    }\n",
       "\n",
       "    .dataframe tbody tr th {\n",
       "        vertical-align: top;\n",
       "    }\n",
       "\n",
       "    .dataframe thead th {\n",
       "        text-align: right;\n",
       "    }\n",
       "</style>\n",
       "<table border=\"1\" class=\"dataframe\">\n",
       "  <thead>\n",
       "    <tr style=\"text-align: right;\">\n",
       "      <th></th>\n",
       "      <th>budget</th>\n",
       "      <th>top_genre</th>\n",
       "      <th>revenue</th>\n",
       "      <th>top_production_company</th>\n",
       "      <th>top_production_country</th>\n",
       "      <th>original_language</th>\n",
       "      <th>popularity</th>\n",
       "      <th>runtime</th>\n",
       "      <th>release_day</th>\n",
       "      <th>release_month</th>\n",
       "      <th>release_year</th>\n",
       "    </tr>\n",
       "  </thead>\n",
       "  <tbody>\n",
       "    <tr>\n",
       "      <th>0</th>\n",
       "      <td>237000000</td>\n",
       "      <td>Action</td>\n",
       "      <td>2787965087</td>\n",
       "      <td>Ingenious Film Partners</td>\n",
       "      <td>United States of America</td>\n",
       "      <td>en</td>\n",
       "      <td>150.437577</td>\n",
       "      <td>162.0</td>\n",
       "      <td>10</td>\n",
       "      <td>December</td>\n",
       "      <td>2009</td>\n",
       "    </tr>\n",
       "    <tr>\n",
       "      <th>1</th>\n",
       "      <td>300000000</td>\n",
       "      <td>Adventure</td>\n",
       "      <td>961000000</td>\n",
       "      <td>Walt Disney Pictures</td>\n",
       "      <td>United States of America</td>\n",
       "      <td>en</td>\n",
       "      <td>139.082615</td>\n",
       "      <td>169.0</td>\n",
       "      <td>19</td>\n",
       "      <td>May</td>\n",
       "      <td>2007</td>\n",
       "    </tr>\n",
       "    <tr>\n",
       "      <th>2</th>\n",
       "      <td>245000000</td>\n",
       "      <td>Action</td>\n",
       "      <td>880674609</td>\n",
       "      <td>Columbia Pictures</td>\n",
       "      <td>United Kingdom</td>\n",
       "      <td>en</td>\n",
       "      <td>107.376788</td>\n",
       "      <td>148.0</td>\n",
       "      <td>26</td>\n",
       "      <td>October</td>\n",
       "      <td>2015</td>\n",
       "    </tr>\n",
       "    <tr>\n",
       "      <th>3</th>\n",
       "      <td>250000000</td>\n",
       "      <td>Action</td>\n",
       "      <td>1084939099</td>\n",
       "      <td>Legendary Pictures</td>\n",
       "      <td>United States of America</td>\n",
       "      <td>en</td>\n",
       "      <td>112.312950</td>\n",
       "      <td>165.0</td>\n",
       "      <td>16</td>\n",
       "      <td>July</td>\n",
       "      <td>2012</td>\n",
       "    </tr>\n",
       "    <tr>\n",
       "      <th>4</th>\n",
       "      <td>260000000</td>\n",
       "      <td>Action</td>\n",
       "      <td>284139100</td>\n",
       "      <td>Walt Disney Pictures</td>\n",
       "      <td>United States of America</td>\n",
       "      <td>en</td>\n",
       "      <td>43.926995</td>\n",
       "      <td>132.0</td>\n",
       "      <td>07</td>\n",
       "      <td>March</td>\n",
       "      <td>2012</td>\n",
       "    </tr>\n",
       "  </tbody>\n",
       "</table>\n",
       "</div>"
      ],
      "text/plain": [
       "      budget  top_genre     revenue   top_production_company  \\\n",
       "0  237000000     Action  2787965087  Ingenious Film Partners   \n",
       "1  300000000  Adventure   961000000     Walt Disney Pictures   \n",
       "2  245000000     Action   880674609        Columbia Pictures   \n",
       "3  250000000     Action  1084939099       Legendary Pictures   \n",
       "4  260000000     Action   284139100     Walt Disney Pictures   \n",
       "\n",
       "     top_production_country original_language  popularity  runtime  \\\n",
       "0  United States of America                en  150.437577    162.0   \n",
       "1  United States of America                en  139.082615    169.0   \n",
       "2            United Kingdom                en  107.376788    148.0   \n",
       "3  United States of America                en  112.312950    165.0   \n",
       "4  United States of America                en   43.926995    132.0   \n",
       "\n",
       "  release_day release_month release_year  \n",
       "0          10      December         2009  \n",
       "1          19           May         2007  \n",
       "2          26       October         2015  \n",
       "3          16          July         2012  \n",
       "4          07         March         2012  "
      ]
     },
     "execution_count": 28,
     "metadata": {},
     "output_type": "execute_result"
    }
   ],
   "source": [
    "df_sample.head()"
   ]
  },
  {
   "cell_type": "code",
   "execution_count": 29,
   "id": "836beba4",
   "metadata": {},
   "outputs": [
    {
     "data": {
      "text/plain": [
       "en    3475\n",
       "fr      37\n",
       "es      23\n",
       "zh      16\n",
       "ja      15\n",
       "de      14\n",
       "ru       8\n",
       "hi       8\n",
       "ko       7\n",
       "cn       7\n",
       "da       6\n",
       "it       6\n",
       "pt       3\n",
       "nl       3\n",
       "th       2\n",
       "fa       2\n",
       "id       2\n",
       "pl       1\n",
       "ro       1\n",
       "no       1\n",
       "he       1\n",
       "xx       1\n",
       "af       1\n",
       "nb       1\n",
       "tr       1\n",
       "sv       1\n",
       "te       1\n",
       "ps       1\n",
       "Name: original_language, dtype: int64"
      ]
     },
     "execution_count": 29,
     "metadata": {},
     "output_type": "execute_result"
    }
   ],
   "source": [
    "df_sample['original_language'].value_counts()"
   ]
  },
  {
   "cell_type": "code",
   "execution_count": 30,
   "id": "47fd700b",
   "metadata": {},
   "outputs": [],
   "source": [
    "#remove the languages where there are only a few values \n",
    "def shorten_categories(categories, cutoff):\n",
    "  categorical_map = {}\n",
    "  for i in range(len(categories)):\n",
    "    if categories.values[i] >= cutoff:\n",
    "      categorical_map[categories.index[i]] = categories.index[i]\n",
    "    else: \n",
    "      categorical_map[categories.index[i]] = \"Other\"\n",
    "  return categorical_map"
   ]
  },
  {
   "cell_type": "code",
   "execution_count": 31,
   "id": "5c7fa070",
   "metadata": {},
   "outputs": [
    {
     "data": {
      "text/plain": [
       "en       3475\n",
       "Other      65\n",
       "fr         37\n",
       "es         23\n",
       "zh         16\n",
       "ja         15\n",
       "de         14\n",
       "Name: original_language, dtype: int64"
      ]
     },
     "execution_count": 31,
     "metadata": {},
     "output_type": "execute_result"
    }
   ],
   "source": [
    "language_map = shorten_categories(df_sample['original_language'].value_counts(), 10)\n",
    "df_sample[\"original_language\"] = df_sample['original_language'].map(language_map)\n",
    "df_sample['original_language'].value_counts()"
   ]
  },
  {
   "cell_type": "code",
   "execution_count": 32,
   "id": "07392ddd",
   "metadata": {},
   "outputs": [],
   "source": [
    "def clean_language(x):\n",
    "    if \"en\" in x:\n",
    "        return \"English\"\n",
    "    if \"fr\" in x: \n",
    "        return \"French\"\n",
    "    if \"es\" in x: \n",
    "        return \"Spanish\"\n",
    "    if \"zh\" in x:\n",
    "        return \"Chinese\"\n",
    "    if \"de\" in x: \n",
    "        return \"German\"\n",
    "    if \"ja\" in x: \n",
    "        return \"Japanese\"\n",
    "    if \"hi\" in x: \n",
    "        return \"Hindi\"\n",
    "    if \"cn\" in x:\n",
    "        return \"Chinese\"\n",
    "    if \"ru\" in x: \n",
    "        return \"Russian\"\n",
    "    if \"ko\" in x: \n",
    "        return \"Korean\"\n",
    "    if \"it\" in x: \n",
    "        return \"Italian\""
   ]
  },
  {
   "cell_type": "code",
   "execution_count": 33,
   "id": "3d3dd11a",
   "metadata": {},
   "outputs": [],
   "source": [
    "df_sample['original_language'] = df_sample['original_language'].apply(clean_language)"
   ]
  },
  {
   "cell_type": "code",
   "execution_count": 34,
   "id": "b86a0b9e",
   "metadata": {},
   "outputs": [
    {
     "data": {
      "text/plain": [
       "United States of America    2499\n",
       "United Kingdom               280\n",
       "Germany                      170\n",
       "Canada                       165\n",
       "France                       129\n",
       "Other                        112\n",
       "Australia                     71\n",
       "Japan                         30\n",
       "China                         27\n",
       "Spain                         27\n",
       "India                         26\n",
       "New Zealand                   18\n",
       "Italy                         17\n",
       "Mexico                        17\n",
       "Hong Kong                     15\n",
       "Ireland                       15\n",
       "Czech Republic                14\n",
       "Belgium                       13\n",
       "Name: top_production_country, dtype: int64"
      ]
     },
     "execution_count": 34,
     "metadata": {},
     "output_type": "execute_result"
    }
   ],
   "source": [
    "production_country_map = shorten_categories(df_sample['top_production_country'].value_counts(), 10)\n",
    "df_sample['top_production_country'] = df_sample['top_production_country'].map(production_country_map)\n",
    "df_sample['top_production_country'].value_counts()"
   ]
  },
  {
   "cell_type": "code",
   "execution_count": 35,
   "id": "3d8e12fe",
   "metadata": {},
   "outputs": [
    {
     "data": {
      "text/plain": [
       "Other                                     1444\n",
       "Paramount Pictures                         258\n",
       "Universal Pictures                         243\n",
       "Columbia Pictures                          181\n",
       "Twentieth Century Fox Film Corporation     165\n",
       "New Line Cinema                            141\n",
       "Walt Disney Pictures                       104\n",
       "Miramax Films                               73\n",
       "Village Roadshow Pictures                   65\n",
       "Columbia Pictures Corporation               61\n",
       "United Artists                              61\n",
       "Warner Bros.                                59\n",
       "DreamWorks SKG                              56\n",
       "Fox Searchlight Pictures                    53\n",
       "Summit Entertainment                        43\n",
       "TriStar Pictures                            39\n",
       "Metro-Goldwyn-Mayer (MGM)                   38\n",
       "Lionsgate                                   29\n",
       "The Weinstein Company                       29\n",
       "Regency Enterprises                         29\n",
       "Touchstone Pictures                         28\n",
       "Imagine Entertainment                       27\n",
       "Dimension Films                             24\n",
       "Lakeshore Entertainment                     24\n",
       "Lions Gate Films                            23\n",
       "BBC Films                                   20\n",
       "Ingenious Film Partners                     20\n",
       "Fox 2000 Pictures                           19\n",
       "Hollywood Pictures                          18\n",
       "Castle Rock Entertainment                   18\n",
       "Spyglass Entertainment                      16\n",
       "Legendary Pictures                          15\n",
       "Studio Babelsberg                           14\n",
       "Lucasfilm                                   14\n",
       "StudioCanal                                 14\n",
       "DreamWorks Animation                        14\n",
       "Dune Entertainment                          14\n",
       "Screen Gems                                 14\n",
       "Alcon Entertainment                         13\n",
       "Orion Pictures                              12\n",
       "Amblin Entertainment                        12\n",
       "Double Feature Films                        11\n",
       "Marvel Studios                              10\n",
       "DC Comics                                   10\n",
       "Silver Pictures                             10\n",
       "Eon Productions                             10\n",
       "Jerry Bruckheimer Films                     10\n",
       "WingNut Films                               10\n",
       "Relativity Media                            10\n",
       "Impact Pictures                             10\n",
       "Sony Pictures Classics                      10\n",
       "Name: top_production_company, dtype: int64"
      ]
     },
     "execution_count": 35,
     "metadata": {},
     "output_type": "execute_result"
    }
   ],
   "source": [
    "production_company_map = shorten_categories(df_sample['top_production_company'].value_counts(), 10)\n",
    "df_sample['top_production_company'] = df_sample['top_production_company'].map(production_company_map)\n",
    "df_sample['top_production_company'].value_counts()"
   ]
  },
  {
   "cell_type": "code",
   "execution_count": 36,
   "id": "37f5f799",
   "metadata": {},
   "outputs": [
    {
     "data": {
      "text/plain": [
       "United States of America    2499\n",
       "United Kingdom               280\n",
       "Germany                      170\n",
       "Canada                       165\n",
       "France                       129\n",
       "Other                        112\n",
       "Australia                     71\n",
       "Japan                         30\n",
       "China                         27\n",
       "Spain                         27\n",
       "India                         26\n",
       "New Zealand                   18\n",
       "Italy                         17\n",
       "Mexico                        17\n",
       "Hong Kong                     15\n",
       "Ireland                       15\n",
       "Czech Republic                14\n",
       "Belgium                       13\n",
       "Name: top_production_country, dtype: int64"
      ]
     },
     "execution_count": 36,
     "metadata": {},
     "output_type": "execute_result"
    }
   ],
   "source": [
    "df_sample['top_production_country'].value_counts()"
   ]
  },
  {
   "cell_type": "code",
   "execution_count": 37,
   "id": "a82b52f7",
   "metadata": {},
   "outputs": [],
   "source": [
    "#some of the data is a number, but some is a string. \n",
    "#So, I need to transform the string values into numbers \n",
    "#that the model can understand\n",
    "from sklearn.preprocessing import LabelEncoder\n",
    "le_top_genre = LabelEncoder()\n",
    "df_sample['top_genre'] = le_top_genre.fit_transform(df_sample['top_genre'])\n",
    "le_top_production_company = LabelEncoder()\n",
    "df_sample['top_production_company'] = le_top_production_company.fit_transform(df_sample['top_production_company'])\n",
    "le_top_production_country = LabelEncoder()\n",
    "df_sample['top_production_country'] = le_top_production_country.fit_transform(df_sample['top_production_country'])                                                                             \n",
    "le_original_language = LabelEncoder()\n",
    "df_sample['original_language'] = le_original_language.fit_transform(df_sample['original_language'])                                                                             \n",
    "le_release_month = LabelEncoder()\n",
    "df_sample['release_month'] = le_release_month.fit_transform(df_sample['release_month'])                                                                            "
   ]
  },
  {
   "cell_type": "code",
   "execution_count": 38,
   "id": "92a0102b",
   "metadata": {},
   "outputs": [
    {
     "data": {
      "text/plain": [
       "30    1444\n",
       "31     258\n",
       "46     243\n",
       "4      181\n",
       "44     165\n",
       "28     141\n",
       "48     104\n",
       "27      73\n",
       "47      65\n",
       "5       61\n",
       "45      61\n",
       "49      59\n",
       "10      56\n",
       "14      53\n",
       "40      43\n",
       "43      39\n",
       "26      38\n",
       "23      29\n",
       "41      29\n",
       "32      29\n",
       "42      28\n",
       "16      27\n",
       "7       24\n",
       "20      24\n",
       "22      23\n",
       "2       20\n",
       "18      20\n",
       "13      19\n",
       "15      18\n",
       "3       18\n",
       "37      16\n",
       "21      15\n",
       "38      14\n",
       "24      14\n",
       "39      14\n",
       "9       14\n",
       "11      14\n",
       "34      14\n",
       "0       13\n",
       "29      12\n",
       "1       12\n",
       "8       11\n",
       "25      10\n",
       "6       10\n",
       "35      10\n",
       "12      10\n",
       "19      10\n",
       "50      10\n",
       "33      10\n",
       "17      10\n",
       "36      10\n",
       "Name: top_production_company, dtype: int64"
      ]
     },
     "execution_count": 38,
     "metadata": {},
     "output_type": "execute_result"
    }
   ],
   "source": [
    "df_sample['top_production_company'].value_counts()"
   ]
  },
  {
   "cell_type": "code",
   "execution_count": 39,
   "id": "eb3cf594",
   "metadata": {},
   "outputs": [
    {
     "data": {
      "text/html": [
       "<div>\n",
       "<style scoped>\n",
       "    .dataframe tbody tr th:only-of-type {\n",
       "        vertical-align: middle;\n",
       "    }\n",
       "\n",
       "    .dataframe tbody tr th {\n",
       "        vertical-align: top;\n",
       "    }\n",
       "\n",
       "    .dataframe thead th {\n",
       "        text-align: right;\n",
       "    }\n",
       "</style>\n",
       "<table border=\"1\" class=\"dataframe\">\n",
       "  <thead>\n",
       "    <tr style=\"text-align: right;\">\n",
       "      <th></th>\n",
       "      <th>budget</th>\n",
       "      <th>top_genre</th>\n",
       "      <th>revenue</th>\n",
       "      <th>top_production_company</th>\n",
       "      <th>top_production_country</th>\n",
       "      <th>original_language</th>\n",
       "      <th>popularity</th>\n",
       "      <th>runtime</th>\n",
       "      <th>release_day</th>\n",
       "      <th>release_month</th>\n",
       "      <th>release_year</th>\n",
       "    </tr>\n",
       "  </thead>\n",
       "  <tbody>\n",
       "    <tr>\n",
       "      <th>9</th>\n",
       "      <td>250000000</td>\n",
       "      <td>0</td>\n",
       "      <td>873260194</td>\n",
       "      <td>6</td>\n",
       "      <td>17</td>\n",
       "      <td>1</td>\n",
       "      <td>155.790452</td>\n",
       "      <td>151.0</td>\n",
       "      <td>23</td>\n",
       "      <td>7</td>\n",
       "      <td>2016</td>\n",
       "    </tr>\n",
       "    <tr>\n",
       "      <th>26</th>\n",
       "      <td>250000000</td>\n",
       "      <td>1</td>\n",
       "      <td>1153304495</td>\n",
       "      <td>38</td>\n",
       "      <td>17</td>\n",
       "      <td>1</td>\n",
       "      <td>198.372395</td>\n",
       "      <td>147.0</td>\n",
       "      <td>27</td>\n",
       "      <td>0</td>\n",
       "      <td>2016</td>\n",
       "    </tr>\n",
       "    <tr>\n",
       "      <th>56</th>\n",
       "      <td>185000000</td>\n",
       "      <td>0</td>\n",
       "      <td>343471816</td>\n",
       "      <td>31</td>\n",
       "      <td>17</td>\n",
       "      <td>1</td>\n",
       "      <td>65.352913</td>\n",
       "      <td>122.0</td>\n",
       "      <td>07</td>\n",
       "      <td>5</td>\n",
       "      <td>2016</td>\n",
       "    </tr>\n",
       "    <tr>\n",
       "      <th>62</th>\n",
       "      <td>180000000</td>\n",
       "      <td>0</td>\n",
       "      <td>356743061</td>\n",
       "      <td>47</td>\n",
       "      <td>2</td>\n",
       "      <td>1</td>\n",
       "      <td>42.741719</td>\n",
       "      <td>109.0</td>\n",
       "      <td>29</td>\n",
       "      <td>6</td>\n",
       "      <td>2016</td>\n",
       "    </tr>\n",
       "    <tr>\n",
       "      <th>64</th>\n",
       "      <td>178000000</td>\n",
       "      <td>14</td>\n",
       "      <td>543934787</td>\n",
       "      <td>44</td>\n",
       "      <td>17</td>\n",
       "      <td>1</td>\n",
       "      <td>139.272042</td>\n",
       "      <td>144.0</td>\n",
       "      <td>18</td>\n",
       "      <td>8</td>\n",
       "      <td>2016</td>\n",
       "    </tr>\n",
       "  </tbody>\n",
       "</table>\n",
       "</div>"
      ],
      "text/plain": [
       "       budget  top_genre     revenue  top_production_company  \\\n",
       "9   250000000          0   873260194                       6   \n",
       "26  250000000          1  1153304495                      38   \n",
       "56  185000000          0   343471816                      31   \n",
       "62  180000000          0   356743061                      47   \n",
       "64  178000000         14   543934787                      44   \n",
       "\n",
       "    top_production_country  original_language  popularity  runtime  \\\n",
       "9                       17                  1  155.790452    151.0   \n",
       "26                      17                  1  198.372395    147.0   \n",
       "56                      17                  1   65.352913    122.0   \n",
       "62                       2                  1   42.741719    109.0   \n",
       "64                      17                  1  139.272042    144.0   \n",
       "\n",
       "   release_day  release_month release_year  \n",
       "9           23              7         2016  \n",
       "26          27              0         2016  \n",
       "56          07              5         2016  \n",
       "62          29              6         2016  \n",
       "64          18              8         2016  "
      ]
     },
     "execution_count": 39,
     "metadata": {},
     "output_type": "execute_result"
    }
   ],
   "source": [
    "#include only the movies released on 2020 and 2021\n",
    "df_pandemic = df_sample[df_sample[\"release_year\"] == \"2016\"]\n",
    "df_pandemic.head()"
   ]
  },
  {
   "cell_type": "code",
   "execution_count": 40,
   "id": "46a28899",
   "metadata": {},
   "outputs": [
    {
     "data": {
      "text/plain": [
       "11    431\n",
       "2     380\n",
       "10    341\n",
       "1     317\n",
       "6     307\n",
       "5     294\n",
       "7     287\n",
       "8     282\n",
       "9     276\n",
       "0     253\n",
       "3     249\n",
       "4     228\n",
       "Name: release_month, dtype: int64"
      ]
     },
     "execution_count": 40,
     "metadata": {},
     "output_type": "execute_result"
    }
   ],
   "source": [
    "df_sample['release_month'].value_counts()"
   ]
  },
  {
   "cell_type": "code",
   "execution_count": 41,
   "id": "e32de32a",
   "metadata": {},
   "outputs": [],
   "source": [
    "#X = features and y = what we want to predict\n",
    "X = df_sample.drop(['revenue', 'release_year', 'original_language', 'top_production_country'], axis=1) #noram\n",
    "y = df_sample['revenue']"
   ]
  },
  {
   "cell_type": "code",
   "execution_count": 42,
   "id": "2540257a",
   "metadata": {},
   "outputs": [],
   "source": [
    "#training dataset \n",
    "from sklearn.model_selection import train_test_split"
   ]
  },
  {
   "cell_type": "code",
   "execution_count": 43,
   "id": "0440feac",
   "metadata": {},
   "outputs": [],
   "source": [
    "X_train, X_test, y_train, y_test = train_test_split(X, y, test_size=0.2)"
   ]
  },
  {
   "cell_type": "code",
   "execution_count": 44,
   "id": "6fd7e2ca",
   "metadata": {},
   "outputs": [
    {
     "data": {
      "text/plain": [
       "LinearRegression()"
      ]
     },
     "execution_count": 44,
     "metadata": {},
     "output_type": "execute_result"
    }
   ],
   "source": [
    "from sklearn.linear_model import LinearRegression\n",
    "linear_reg = LinearRegression()\n",
    "linear_reg.fit(X_train, y_train)\n",
    "#you would typically only fit on the training data "
   ]
  },
  {
   "cell_type": "code",
   "execution_count": 45,
   "id": "96e2b3db",
   "metadata": {},
   "outputs": [],
   "source": [
    "y_pred = linear_reg.predict(X_test)"
   ]
  },
  {
   "cell_type": "code",
   "execution_count": 46,
   "id": "23d8a230",
   "metadata": {},
   "outputs": [],
   "source": [
    "from sklearn.metrics import mean_squared_error, mean_absolute_error\n",
    "import numpy as np\n",
    "error = np.sqrt(mean_squared_error(y_test, y_pred))"
   ]
  },
  {
   "cell_type": "code",
   "execution_count": 47,
   "id": "8d6fc5e8",
   "metadata": {},
   "outputs": [
    {
     "data": {
      "text/plain": [
       "100083119.48095065"
      ]
     },
     "execution_count": 47,
     "metadata": {},
     "output_type": "execute_result"
    }
   ],
   "source": [
    "#the amount that we are off \n",
    "error"
   ]
  },
  {
   "cell_type": "code",
   "execution_count": 48,
   "id": "d18699f1",
   "metadata": {},
   "outputs": [
    {
     "data": {
      "text/plain": [
       "0.6553239176750822"
      ]
     },
     "execution_count": 48,
     "metadata": {},
     "output_type": "execute_result"
    }
   ],
   "source": [
    "linear_reg.score(X_test,y_test)"
   ]
  },
  {
   "cell_type": "code",
   "execution_count": null,
   "id": "0ed4dc5c",
   "metadata": {
    "scrolled": true
   },
   "outputs": [],
   "source": []
  },
  {
   "cell_type": "code",
   "execution_count": 49,
   "id": "2f30723a",
   "metadata": {},
   "outputs": [
    {
     "data": {
      "text/plain": [
       "DecisionTreeRegressor(random_state=0)"
      ]
     },
     "execution_count": 49,
     "metadata": {},
     "output_type": "execute_result"
    }
   ],
   "source": [
    "#DecisionTreeRegressor \n",
    "from sklearn.tree import DecisionTreeRegressor\n",
    "dec_tree_reg = DecisionTreeRegressor(random_state=0)\n",
    "dec_tree_reg.fit(X_train, y_train)"
   ]
  },
  {
   "cell_type": "code",
   "execution_count": 50,
   "id": "edc0010a",
   "metadata": {},
   "outputs": [],
   "source": [
    "y_pred = dec_tree_reg.predict(X_test)"
   ]
  },
  {
   "cell_type": "code",
   "execution_count": 51,
   "id": "161927cb",
   "metadata": {},
   "outputs": [
    {
     "name": "stdout",
     "output_type": "stream",
     "text": [
      "$137,315,232.98\n"
     ]
    }
   ],
   "source": [
    "#the error is a bit better here \n",
    "error = np.sqrt(mean_squared_error(y_test, y_pred))\n",
    "print(\"${:,.02f}\".format(error))"
   ]
  },
  {
   "cell_type": "code",
   "execution_count": 52,
   "id": "b008aab2",
   "metadata": {},
   "outputs": [
    {
     "data": {
      "text/plain": [
       "RandomForestRegressor(random_state=0)"
      ]
     },
     "execution_count": 52,
     "metadata": {},
     "output_type": "execute_result"
    }
   ],
   "source": [
    "#combines multiple decision trees into a forest\n",
    "from sklearn.ensemble import RandomForestRegressor\n",
    "random_forest_reg = RandomForestRegressor(random_state=0)\n",
    "random_forest_reg.fit(X_train, y_train)"
   ]
  },
  {
   "cell_type": "code",
   "execution_count": 53,
   "id": "f044b5a9",
   "metadata": {},
   "outputs": [],
   "source": [
    "y_pred = random_forest_reg.predict(X_test)"
   ]
  },
  {
   "cell_type": "code",
   "execution_count": 54,
   "id": "512c8d15",
   "metadata": {},
   "outputs": [
    {
     "name": "stdout",
     "output_type": "stream",
     "text": [
      "$7,517.33\n"
     ]
    }
   ],
   "source": [
    "#the error is very small here\n",
    "error = np.sqrt(mean_absolute_error(y_test, y_pred))\n",
    "print(\"${:,.02f}\".format(error))"
   ]
  },
  {
   "cell_type": "code",
   "execution_count": 55,
   "id": "7d4d6ac0",
   "metadata": {},
   "outputs": [
    {
     "data": {
      "text/plain": [
       "GridSearchCV(estimator=DecisionTreeRegressor(random_state=0),\n",
       "             param_grid={'max_depth': [None, 2, 4, 6, 8, 10, 12]},\n",
       "             scoring='neg_mean_squared_error')"
      ]
     },
     "execution_count": 55,
     "metadata": {},
     "output_type": "execute_result"
    }
   ],
   "source": [
    "#grid serach method \n",
    "#tries each parameter and chooses best one\n",
    "from sklearn.model_selection import GridSearchCV\n",
    "\n",
    "max_depth = [None, 2, 4, 6, 8, 10, 12]\n",
    "parameters = {'max_depth': max_depth}\n",
    "\n",
    "regressor = DecisionTreeRegressor(random_state=0)\n",
    "gs = GridSearchCV(regressor, parameters, scoring='neg_mean_squared_error')\n",
    "gs.fit(X_train, y_train)"
   ]
  },
  {
   "cell_type": "code",
   "execution_count": 56,
   "id": "f0668910",
   "metadata": {},
   "outputs": [
    {
     "name": "stdout",
     "output_type": "stream",
     "text": [
      "$109,882,551.39\n"
     ]
    }
   ],
   "source": [
    "regressor = gs.best_estimator_\n",
    "\n",
    "regressor.fit(X_train, y_train)\n",
    "y_pred = regressor.predict(X_test)\n",
    "\n",
    "#error is pretty high here. The DecisionTree was better\n",
    "#could be due to randomness in the Decision Trees \n",
    "error = np.sqrt(mean_squared_error(y_test, y_pred))\n",
    "print(\"${:,.02f}\".format(error))"
   ]
  },
  {
   "cell_type": "code",
   "execution_count": 57,
   "id": "7ad8c842",
   "metadata": {},
   "outputs": [
    {
     "data": {
      "text/html": [
       "<div>\n",
       "<style scoped>\n",
       "    .dataframe tbody tr th:only-of-type {\n",
       "        vertical-align: middle;\n",
       "    }\n",
       "\n",
       "    .dataframe tbody tr th {\n",
       "        vertical-align: top;\n",
       "    }\n",
       "\n",
       "    .dataframe thead th {\n",
       "        text-align: right;\n",
       "    }\n",
       "</style>\n",
       "<table border=\"1\" class=\"dataframe\">\n",
       "  <thead>\n",
       "    <tr style=\"text-align: right;\">\n",
       "      <th></th>\n",
       "      <th>budget</th>\n",
       "      <th>top_genre</th>\n",
       "      <th>top_production_company</th>\n",
       "      <th>popularity</th>\n",
       "      <th>runtime</th>\n",
       "      <th>release_day</th>\n",
       "      <th>release_month</th>\n",
       "    </tr>\n",
       "  </thead>\n",
       "  <tbody>\n",
       "    <tr>\n",
       "      <th>0</th>\n",
       "      <td>237000000</td>\n",
       "      <td>0</td>\n",
       "      <td>18</td>\n",
       "      <td>150.437577</td>\n",
       "      <td>162.0</td>\n",
       "      <td>10</td>\n",
       "      <td>2</td>\n",
       "    </tr>\n",
       "    <tr>\n",
       "      <th>1</th>\n",
       "      <td>300000000</td>\n",
       "      <td>1</td>\n",
       "      <td>48</td>\n",
       "      <td>139.082615</td>\n",
       "      <td>169.0</td>\n",
       "      <td>19</td>\n",
       "      <td>8</td>\n",
       "    </tr>\n",
       "    <tr>\n",
       "      <th>2</th>\n",
       "      <td>245000000</td>\n",
       "      <td>0</td>\n",
       "      <td>4</td>\n",
       "      <td>107.376788</td>\n",
       "      <td>148.0</td>\n",
       "      <td>26</td>\n",
       "      <td>10</td>\n",
       "    </tr>\n",
       "    <tr>\n",
       "      <th>3</th>\n",
       "      <td>250000000</td>\n",
       "      <td>0</td>\n",
       "      <td>21</td>\n",
       "      <td>112.312950</td>\n",
       "      <td>165.0</td>\n",
       "      <td>16</td>\n",
       "      <td>5</td>\n",
       "    </tr>\n",
       "    <tr>\n",
       "      <th>4</th>\n",
       "      <td>260000000</td>\n",
       "      <td>0</td>\n",
       "      <td>48</td>\n",
       "      <td>43.926995</td>\n",
       "      <td>132.0</td>\n",
       "      <td>07</td>\n",
       "      <td>7</td>\n",
       "    </tr>\n",
       "    <tr>\n",
       "      <th>...</th>\n",
       "      <td>...</td>\n",
       "      <td>...</td>\n",
       "      <td>...</td>\n",
       "      <td>...</td>\n",
       "      <td>...</td>\n",
       "      <td>...</td>\n",
       "      <td>...</td>\n",
       "    </tr>\n",
       "    <tr>\n",
       "      <th>4774</th>\n",
       "      <td>27000</td>\n",
       "      <td>6</td>\n",
       "      <td>30</td>\n",
       "      <td>0.027811</td>\n",
       "      <td>64.0</td>\n",
       "      <td>01</td>\n",
       "      <td>4</td>\n",
       "    </tr>\n",
       "    <tr>\n",
       "      <th>4788</th>\n",
       "      <td>12000</td>\n",
       "      <td>10</td>\n",
       "      <td>30</td>\n",
       "      <td>4.553644</td>\n",
       "      <td>93.0</td>\n",
       "      <td>12</td>\n",
       "      <td>7</td>\n",
       "    </tr>\n",
       "    <tr>\n",
       "      <th>4792</th>\n",
       "      <td>20000</td>\n",
       "      <td>4</td>\n",
       "      <td>30</td>\n",
       "      <td>0.212443</td>\n",
       "      <td>111.0</td>\n",
       "      <td>06</td>\n",
       "      <td>9</td>\n",
       "    </tr>\n",
       "    <tr>\n",
       "      <th>4796</th>\n",
       "      <td>7000</td>\n",
       "      <td>14</td>\n",
       "      <td>30</td>\n",
       "      <td>23.307949</td>\n",
       "      <td>77.0</td>\n",
       "      <td>08</td>\n",
       "      <td>10</td>\n",
       "    </tr>\n",
       "    <tr>\n",
       "      <th>4798</th>\n",
       "      <td>220000</td>\n",
       "      <td>0</td>\n",
       "      <td>4</td>\n",
       "      <td>14.269792</td>\n",
       "      <td>81.0</td>\n",
       "      <td>04</td>\n",
       "      <td>11</td>\n",
       "    </tr>\n",
       "  </tbody>\n",
       "</table>\n",
       "<p>3645 rows × 7 columns</p>\n",
       "</div>"
      ],
      "text/plain": [
       "         budget  top_genre  top_production_company  popularity  runtime  \\\n",
       "0     237000000          0                      18  150.437577    162.0   \n",
       "1     300000000          1                      48  139.082615    169.0   \n",
       "2     245000000          0                       4  107.376788    148.0   \n",
       "3     250000000          0                      21  112.312950    165.0   \n",
       "4     260000000          0                      48   43.926995    132.0   \n",
       "...         ...        ...                     ...         ...      ...   \n",
       "4774      27000          6                      30    0.027811     64.0   \n",
       "4788      12000         10                      30    4.553644     93.0   \n",
       "4792      20000          4                      30    0.212443    111.0   \n",
       "4796       7000         14                      30   23.307949     77.0   \n",
       "4798     220000          0                       4   14.269792     81.0   \n",
       "\n",
       "     release_day  release_month  \n",
       "0             10              2  \n",
       "1             19              8  \n",
       "2             26             10  \n",
       "3             16              5  \n",
       "4             07              7  \n",
       "...          ...            ...  \n",
       "4774          01              4  \n",
       "4788          12              7  \n",
       "4792          06              9  \n",
       "4796          08             10  \n",
       "4798          04             11  \n",
       "\n",
       "[3645 rows x 7 columns]"
      ]
     },
     "execution_count": 57,
     "metadata": {},
     "output_type": "execute_result"
    }
   ],
   "source": [
    "X"
   ]
  },
  {
   "cell_type": "code",
   "execution_count": 58,
   "id": "e5c576db",
   "metadata": {},
   "outputs": [
    {
     "data": {
      "text/plain": [
       "array([['200344000', 'Action', 'DC Comics', '5.6', '80.0', '9', 'July']],\n",
       "      dtype='<U32')"
      ]
     },
     "execution_count": 58,
     "metadata": {},
     "output_type": "execute_result"
    }
   ],
   "source": [
    "#X = np.array([[200344000, \"Action\", 5.6, 80.0, 9, \"October\"]])\n",
    "X = np.array([[200344000, \"Action\", \"DC Comics\", 5.6, 80.0, 9, \"July\"]])\n",
    "X"
   ]
  },
  {
   "cell_type": "code",
   "execution_count": 59,
   "id": "df389841",
   "metadata": {},
   "outputs": [
    {
     "data": {
      "text/plain": [
       "array([['200344000', '0', '6', '5.6', '80.0', '9', '5']], dtype='<U32')"
      ]
     },
     "execution_count": 59,
     "metadata": {},
     "output_type": "execute_result"
    }
   ],
   "source": [
    "X[:, 1] = le_top_genre.transform(X[:, 1])\n",
    "X[:, 2] = le_top_production_company.transform(X[:,2])\n",
    "#X[:, 3] = le_top_production_country.transform(X[:, 3])\n",
    "#X[:, 4] = le_original_language.transform(X[:,4])\n",
    "X[:, 6] = le_release_month.transform(X[:, 6])\n",
    "X"
   ]
  },
  {
   "cell_type": "code",
   "execution_count": 60,
   "id": "e6c40ac5",
   "metadata": {},
   "outputs": [
    {
     "name": "stdout",
     "output_type": "stream",
     "text": [
      "[4.43404118e+08]\n"
     ]
    },
    {
     "name": "stderr",
     "output_type": "stream",
     "text": [
      "/Users/joshuasuber/opt/anaconda3/envs/ml/lib/python3.9/site-packages/sklearn/base.py:445: UserWarning: X does not have valid feature names, but RandomForestRegressor was fitted with feature names\n",
      "  warnings.warn(\n"
     ]
    }
   ],
   "source": [
    "y_pred = random_forest_reg.predict(X)\n",
    "print(y_pred)"
   ]
  },
  {
   "cell_type": "code",
   "execution_count": 61,
   "id": "687e2a2b",
   "metadata": {},
   "outputs": [
    {
     "name": "stdout",
     "output_type": "stream",
     "text": [
      "[85131830.]\n"
     ]
    },
    {
     "name": "stderr",
     "output_type": "stream",
     "text": [
      "/Users/joshuasuber/opt/anaconda3/envs/ml/lib/python3.9/site-packages/sklearn/base.py:445: UserWarning: X does not have valid feature names, but DecisionTreeRegressor was fitted with feature names\n",
      "  warnings.warn(\n"
     ]
    }
   ],
   "source": [
    "y_pred = dec_tree_reg.predict(X)\n",
    "print(y_pred)"
   ]
  },
  {
   "cell_type": "code",
   "execution_count": 62,
   "id": "5ec80123",
   "metadata": {},
   "outputs": [],
   "source": [
    "import pickle"
   ]
  },
  {
   "cell_type": "code",
   "execution_count": 63,
   "id": "05768316",
   "metadata": {},
   "outputs": [],
   "source": [
    "data = {\"model\" : random_forest_reg, \"le_top_genre\": le_top_genre, \"le_top_production_company\": le_top_production_company, \n",
    "       \"le_top_production_country\": le_top_production_country, \"le_original_language\": le_original_language, \n",
    "        \"le_release_month\": le_release_month}\n",
    "with open('saved_steps.pkl', 'wb') as file:\n",
    "  pickle.dump(data, file)"
   ]
  },
  {
   "cell_type": "code",
   "execution_count": 64,
   "id": "4f9a7115",
   "metadata": {},
   "outputs": [],
   "source": [
    "with open('saved_steps.pkl', 'rb') as file:\n",
    "  data = pickle.load(file)\n",
    "\n",
    "regressor_loaded = data[\"model\"]\n",
    "le_top_genre = data[\"le_top_genre\"]\n",
    "le_top_production_company = data[\"le_top_production_company\"]\n",
    "le_top_production_country = data[\"le_top_production_country\"]\n",
    "le_original_language = data[\"le_original_language\"]\n",
    "le_release_month = data[\"le_release_month\"]"
   ]
  },
  {
   "cell_type": "code",
   "execution_count": 65,
   "id": "c834463a",
   "metadata": {},
   "outputs": [
    {
     "name": "stdout",
     "output_type": "stream",
     "text": [
      "[443404118]\n"
     ]
    },
    {
     "name": "stderr",
     "output_type": "stream",
     "text": [
      "/Users/joshuasuber/opt/anaconda3/envs/ml/lib/python3.9/site-packages/sklearn/base.py:445: UserWarning: X does not have valid feature names, but RandomForestRegressor was fitted with feature names\n",
      "  warnings.warn(\n"
     ]
    }
   ],
   "source": [
    "np.set_printoptions(suppress=True,\n",
    "   formatter={'float_kind':'{:0.0f}'.format})\n",
    "y_pred = regressor_loaded.predict(X)\n",
    "print(y_pred)"
   ]
  },
  {
   "cell_type": "code",
   "execution_count": 66,
   "id": "09d38d15",
   "metadata": {},
   "outputs": [
    {
     "name": "stdout",
     "output_type": "stream",
     "text": [
      "7000\n"
     ]
    }
   ],
   "source": [
    "#min and max budge\n",
    "print(df_sample[\"budget\"].min())"
   ]
  },
  {
   "cell_type": "code",
   "execution_count": 67,
   "id": "011ce572",
   "metadata": {},
   "outputs": [
    {
     "data": {
      "text/plain": [
       "<bound method Series.unique of 0       237000000\n",
       "1       300000000\n",
       "2       245000000\n",
       "3       250000000\n",
       "4       260000000\n",
       "          ...    \n",
       "4774        27000\n",
       "4788        12000\n",
       "4792        20000\n",
       "4796         7000\n",
       "4798       220000\n",
       "Name: budget, Length: 3645, dtype: int64>"
      ]
     },
     "execution_count": 67,
     "metadata": {},
     "output_type": "execute_result"
    }
   ],
   "source": [
    "df_sample[\"budget\"].unique"
   ]
  },
  {
   "cell_type": "code",
   "execution_count": 68,
   "id": "99cb2b8f",
   "metadata": {},
   "outputs": [
    {
     "data": {
      "text/plain": [
       "3645"
      ]
     },
     "execution_count": 68,
     "metadata": {},
     "output_type": "execute_result"
    }
   ],
   "source": [
    "len(df_sample)"
   ]
  },
  {
   "cell_type": "code",
   "execution_count": 69,
   "id": "9ddb92a2",
   "metadata": {},
   "outputs": [
    {
     "name": "stdout",
     "output_type": "stream",
     "text": [
      "380000000\n"
     ]
    }
   ],
   "source": [
    "#min and max budge\n",
    "print(df_sample[\"budget\"].max())"
   ]
  },
  {
   "cell_type": "code",
   "execution_count": null,
   "id": "7d1fea23",
   "metadata": {},
   "outputs": [],
   "source": []
  }
 ],
 "metadata": {
  "kernelspec": {
   "display_name": "Python 3 (ipykernel)",
   "language": "python",
   "name": "python3"
  },
  "language_info": {
   "codemirror_mode": {
    "name": "ipython",
    "version": 3
   },
   "file_extension": ".py",
   "mimetype": "text/x-python",
   "name": "python",
   "nbconvert_exporter": "python",
   "pygments_lexer": "ipython3",
   "version": "3.9.7"
  }
 },
 "nbformat": 4,
 "nbformat_minor": 5
}
