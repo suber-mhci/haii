{
 "cells": [
  {
   "cell_type": "code",
   "execution_count": 1,
   "id": "799ff0a2",
   "metadata": {},
   "outputs": [
    {
     "name": "stdout",
     "output_type": "stream",
     "text": [
      "Requirement already satisfied: tmdbsimple in /Users/joshuasuber/opt/anaconda3/envs/ml/lib/python3.9/site-packages (2.8.1)\n",
      "Requirement already satisfied: requests in /Users/joshuasuber/opt/anaconda3/envs/ml/lib/python3.9/site-packages (from tmdbsimple) (2.26.0)\n",
      "Requirement already satisfied: charset-normalizer~=2.0.0 in /Users/joshuasuber/opt/anaconda3/envs/ml/lib/python3.9/site-packages (from requests->tmdbsimple) (2.0.8)\n",
      "Requirement already satisfied: urllib3<1.27,>=1.21.1 in /Users/joshuasuber/opt/anaconda3/envs/ml/lib/python3.9/site-packages (from requests->tmdbsimple) (1.26.7)\n",
      "Requirement already satisfied: certifi>=2017.4.17 in /Users/joshuasuber/opt/anaconda3/envs/ml/lib/python3.9/site-packages (from requests->tmdbsimple) (2021.10.8)\n",
      "Requirement already satisfied: idna<4,>=2.5 in /Users/joshuasuber/opt/anaconda3/envs/ml/lib/python3.9/site-packages (from requests->tmdbsimple) (3.3)\n",
      "Note: you may need to restart the kernel to use updated packages.\n"
     ]
    }
   ],
   "source": [
    "pip install tmdbsimple"
   ]
  },
  {
   "cell_type": "code",
   "execution_count": 2,
   "id": "f68a533f",
   "metadata": {},
   "outputs": [],
   "source": [
    "import tmdbsimple as tmdb\n",
    "tmdb.API_KEY = '5428286ed90a2272fcf6f78a6282318f'"
   ]
  },
  {
   "cell_type": "code",
   "execution_count": 3,
   "id": "68d6ac99",
   "metadata": {},
   "outputs": [],
   "source": [
    "tmdb.REQUESTS_TIMEOUT = (2, 5)  # seconds, for connect and read specifically "
   ]
  },
  {
   "cell_type": "code",
   "execution_count": 4,
   "id": "87fb78b7",
   "metadata": {},
   "outputs": [],
   "source": [
    "import requests\n",
    "tmdb.REQUESTS_SESSION = requests.Session()"
   ]
  },
  {
   "cell_type": "code",
   "execution_count": 5,
   "id": "524355a8",
   "metadata": {},
   "outputs": [
    {
     "ename": "KeyError",
     "evalue": "'results'",
     "output_type": "error",
     "traceback": [
      "\u001b[0;31m---------------------------------------------------------------------------\u001b[0m",
      "\u001b[0;31mKeyError\u001b[0m                                  Traceback (most recent call last)",
      "\u001b[0;32m/var/folders/z7/10wjhb1949v24p4wx4kyt7qm0000gn/T/ipykernel_84326/3590662504.py\u001b[0m in \u001b[0;36m<module>\u001b[0;34m\u001b[0m\n\u001b[1;32m      7\u001b[0m     \u001b[0murl\u001b[0m \u001b[0;34m=\u001b[0m \u001b[0;34m'https://api.themoviedb.org/3/discover/movie?&sort_by=popularity.desc&offset=20&page={}&api_key='\u001b[0m\u001b[0;34m.\u001b[0m\u001b[0mformat\u001b[0m\u001b[0;34m(\u001b[0m\u001b[0mn\u001b[0m\u001b[0;34m)\u001b[0m\u001b[0;34m\u001b[0m\u001b[0;34m\u001b[0m\u001b[0m\n\u001b[1;32m      8\u001b[0m     \u001b[0mresponse\u001b[0m \u001b[0;34m=\u001b[0m \u001b[0mrequests\u001b[0m\u001b[0;34m.\u001b[0m\u001b[0mget\u001b[0m\u001b[0;34m(\u001b[0m\u001b[0murl\u001b[0m \u001b[0;34m+\u001b[0m \u001b[0mapi_key\u001b[0m\u001b[0;34m)\u001b[0m\u001b[0;34m.\u001b[0m\u001b[0mjson\u001b[0m\u001b[0;34m(\u001b[0m\u001b[0;34m)\u001b[0m\u001b[0;34m\u001b[0m\u001b[0;34m\u001b[0m\u001b[0m\n\u001b[0;32m----> 9\u001b[0;31m     \u001b[0mresults\u001b[0m \u001b[0;34m=\u001b[0m \u001b[0mresponse\u001b[0m\u001b[0;34m[\u001b[0m\u001b[0;34m'results'\u001b[0m\u001b[0;34m]\u001b[0m\u001b[0;34m\u001b[0m\u001b[0;34m\u001b[0m\u001b[0m\n\u001b[0m\u001b[1;32m     10\u001b[0m     \u001b[0mmovies_list\u001b[0m\u001b[0;34m.\u001b[0m\u001b[0mextend\u001b[0m\u001b[0;34m(\u001b[0m\u001b[0mresults\u001b[0m\u001b[0;34m)\u001b[0m\u001b[0;34m\u001b[0m\u001b[0;34m\u001b[0m\u001b[0m\n\u001b[1;32m     11\u001b[0m     \u001b[0mtime\u001b[0m\u001b[0;34m.\u001b[0m\u001b[0msleep\u001b[0m\u001b[0;34m(\u001b[0m\u001b[0;36m2\u001b[0m\u001b[0;34m)\u001b[0m\u001b[0;34m\u001b[0m\u001b[0;34m\u001b[0m\u001b[0m\n",
      "\u001b[0;31mKeyError\u001b[0m: 'results'"
     ]
    }
   ],
   "source": [
    "import time\n",
    "api_key = '5428286ed90a2272fcf6f78a6282318f'\n",
    "movies_list = []\n",
    "n = 0;\n",
    "while n < 800:\n",
    "    n += 1\n",
    "    url = 'https://api.themoviedb.org/3/discover/movie?&sort_by=popularity.desc&offset=20&page={}&api_key='.format(n)\n",
    "    response = requests.get(url + api_key).json()\n",
    "    results = response['results']\n",
    "    movies_list.extend(results)\n",
    "    time.sleep(2)"
   ]
  },
  {
   "cell_type": "code",
   "execution_count": null,
   "id": "aea8912b",
   "metadata": {},
   "outputs": [],
   "source": [
    "print(len(movies_list))"
   ]
  },
  {
   "cell_type": "code",
   "execution_count": null,
   "id": "26f4572d",
   "metadata": {},
   "outputs": [],
   "source": [
    "import pandas as pd\n",
    "df = pd.DataFrame(movies_list)\n",
    "df.head(10)"
   ]
  },
  {
   "cell_type": "code",
   "execution_count": null,
   "id": "202fb987",
   "metadata": {},
   "outputs": [],
   "source": [
    "df.release_date.value_counts()"
   ]
  },
  {
   "cell_type": "code",
   "execution_count": null,
   "id": "b155e877",
   "metadata": {},
   "outputs": [],
   "source": [
    "#save csv \n",
    "df.to_csv('tmdb_movies_16000.csv', index=False)"
   ]
  },
  {
   "cell_type": "code",
   "execution_count": null,
   "id": "b7f3223d",
   "metadata": {},
   "outputs": [],
   "source": []
  }
 ],
 "metadata": {
  "kernelspec": {
   "display_name": "Python 3 (ipykernel)",
   "language": "python",
   "name": "python3"
  },
  "language_info": {
   "codemirror_mode": {
    "name": "ipython",
    "version": 3
   },
   "file_extension": ".py",
   "mimetype": "text/x-python",
   "name": "python",
   "nbconvert_exporter": "python",
   "pygments_lexer": "ipython3",
   "version": "3.9.7"
  }
 },
 "nbformat": 4,
 "nbformat_minor": 5
}
